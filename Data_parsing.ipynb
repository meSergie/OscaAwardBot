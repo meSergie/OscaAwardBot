{
 "cells": [
  {
   "cell_type": "code",
   "execution_count": null,
   "metadata": {
    "id": "JZAEZsPHVN6v"
   },
   "outputs": [],
   "source": [
    "!pip3 install wikidataintegrator"
   ]
  },
  {
   "cell_type": "code",
   "execution_count": null,
   "metadata": {
    "colab": {
     "base_uri": "https://localhost:8080/",
     "height": 212
    },
    "id": "HRAHekAaCB9a",
    "outputId": "47229c3a-259f-4eda-c0ef-65b5c8404cb3"
   },
   "outputs": [
    {
     "name": "stdout",
     "output_type": "stream",
     "text": [
      "613\n"
     ]
    },
    {
     "data": {
      "text/html": [
       "<div>\n",
       "<style scoped>\n",
       "    .dataframe tbody tr th:only-of-type {\n",
       "        vertical-align: middle;\n",
       "    }\n",
       "\n",
       "    .dataframe tbody tr th {\n",
       "        vertical-align: top;\n",
       "    }\n",
       "\n",
       "    .dataframe thead th {\n",
       "        text-align: right;\n",
       "    }\n",
       "</style>\n",
       "<table border=\"1\" class=\"dataframe\">\n",
       "  <thead>\n",
       "    <tr style=\"text-align: right;\">\n",
       "      <th></th>\n",
       "      <th>celebrity</th>\n",
       "      <th>celebrityLabel</th>\n",
       "      <th>awardtime</th>\n",
       "      <th>placeOfBirthLabel</th>\n",
       "      <th>citizenLabel</th>\n",
       "      <th>dateOfBirth</th>\n",
       "      <th>genderLabel</th>\n",
       "      <th>award</th>\n",
       "      <th>Age_while_awarded</th>\n",
       "    </tr>\n",
       "  </thead>\n",
       "  <tbody>\n",
       "    <tr>\n",
       "      <th>0</th>\n",
       "      <td>http://www.wikidata.org/entity/Q873</td>\n",
       "      <td>Meryl Streep</td>\n",
       "      <td>2012-02-26</td>\n",
       "      <td>Summit</td>\n",
       "      <td>United States of America</td>\n",
       "      <td>1949-06-22</td>\n",
       "      <td>female</td>\n",
       "      <td>best actress</td>\n",
       "      <td>62.723288</td>\n",
       "    </tr>\n",
       "    <tr>\n",
       "      <th>1</th>\n",
       "      <td>http://www.wikidata.org/entity/Q873</td>\n",
       "      <td>Meryl Streep</td>\n",
       "      <td>1983-04-11</td>\n",
       "      <td>Summit</td>\n",
       "      <td>United States of America</td>\n",
       "      <td>1949-06-22</td>\n",
       "      <td>female</td>\n",
       "      <td>best actress</td>\n",
       "      <td>33.824658</td>\n",
       "    </tr>\n",
       "    <tr>\n",
       "      <th>2</th>\n",
       "      <td>http://www.wikidata.org/entity/Q4636</td>\n",
       "      <td>Barbra Streisand</td>\n",
       "      <td>1969-04-14</td>\n",
       "      <td>Brooklyn</td>\n",
       "      <td>United States of America</td>\n",
       "      <td>1942-04-24</td>\n",
       "      <td>female</td>\n",
       "      <td>best actress</td>\n",
       "      <td>26.991781</td>\n",
       "    </tr>\n",
       "    <tr>\n",
       "      <th>3</th>\n",
       "      <td>http://www.wikidata.org/entity/Q12003</td>\n",
       "      <td>Cher</td>\n",
       "      <td>1988-04-11</td>\n",
       "      <td>El Centro</td>\n",
       "      <td>United States of America</td>\n",
       "      <td>1946-05-20</td>\n",
       "      <td>female</td>\n",
       "      <td>best actress</td>\n",
       "      <td>41.923288</td>\n",
       "    </tr>\n",
       "    <tr>\n",
       "      <th>4</th>\n",
       "      <td>http://www.wikidata.org/entity/Q29328</td>\n",
       "      <td>Brie Larson</td>\n",
       "      <td>2016-02-28</td>\n",
       "      <td>Sacramento</td>\n",
       "      <td>United States of America</td>\n",
       "      <td>1989-10-01</td>\n",
       "      <td>female</td>\n",
       "      <td>best actress</td>\n",
       "      <td>26.427397</td>\n",
       "    </tr>\n",
       "  </tbody>\n",
       "</table>\n",
       "</div>"
      ],
      "text/plain": [
       "                               celebrity  ... Age_while_awarded\n",
       "0    http://www.wikidata.org/entity/Q873  ...         62.723288\n",
       "1    http://www.wikidata.org/entity/Q873  ...         33.824658\n",
       "2   http://www.wikidata.org/entity/Q4636  ...         26.991781\n",
       "3  http://www.wikidata.org/entity/Q12003  ...         41.923288\n",
       "4  http://www.wikidata.org/entity/Q29328  ...         26.427397\n",
       "\n",
       "[5 rows x 9 columns]"
      ]
     },
     "execution_count": 45,
     "metadata": {
      "tags": []
     },
     "output_type": "execute_result"
    }
   ],
   "source": [
    "import pandas as pd\n",
    "from wikidataintegrator import wdi_core\n",
    "\n",
    "academy_awards = { \"best actress\"    : \"Q103618\",\n",
    "                   \"best actor\"      : \"Q103916\",\n",
    "                   \"support actress\" : \"Q106301\",\n",
    "                   \"support actor\"   : \"Q106291\",\n",
    "                   \"directing\"       : \"Q103360\",\n",
    "                   \"orig screenplay\" : \"Q41417\"}\n",
    "\n",
    "query = \"\"\"\n",
    "SELECT DISTINCT ?celebrity ?celebrityLabel ?awardtime ?placeOfBirthLabel ?citizenLabel ?dateOfBirth ?genderLabel\n",
    "{\n",
    "    ?celebrity wdt:P31 wd:Q5;\n",
    "               wdt:P18  ?havepicture;\n",
    "               wdt:P569 ?dateOfBirth;\n",
    "               wdt:P19  ?placeOfBirth;\n",
    "               wdt:P21  ?gender;\n",
    "               wdt:P27  ?citizen;\n",
    "               p:P166 ?awardStat. #has been awarded\n",
    "    \n",
    "    ?awardStat pq:P805 ?award;    \n",
    "               ps:P166 wd:AWARD.        \n",
    "    ?award wdt:P585 ?awardtime. \n",
    "    SERVICE wikibase:label {bd:serviceParam wikibase:language \"[AUTO_LANGUAGE],en\"}\n",
    "}\n",
    "ORDER BY DESC(?time)\"\"\"\n",
    "\n",
    "df = pd.DataFrame()\n",
    "\n",
    "for award in academy_awards.keys():\n",
    "    result = wdi_core.WDItemEngine.execute_sparql_query(query.replace(\"AWARD\", academy_awards[award]), as_dataframe=True)\n",
    "    result[\"award\"] = award\n",
    "    df = pd.concat((df, result))\n",
    "\n",
    "df[\"Age_while_awarded\"] = (df[\"awardtime\"] - df[\"dateOfBirth\"]).dt.days /365.25\n",
    "\n",
    "print (len(df))\n",
    "df.head()"
   ]
  },
  {
   "cell_type": "code",
   "execution_count": null,
   "metadata": {
    "id": "B3CA1ev_TKOs"
   },
   "outputs": [],
   "source": [
    "!pip install wikidata"
   ]
  },
  {
   "cell_type": "code",
   "execution_count": null,
   "metadata": {
    "colab": {
     "base_uri": "https://localhost:8080/",
     "height": 101
    },
    "id": "WB4twBmbTLap",
    "outputId": "489f1d1b-74cb-4e18-90e9-f192351d91c3"
   },
   "outputs": [
    {
     "name": "stderr",
     "output_type": "stream",
     "text": [
      "/usr/local/lib/python3.6/dist-packages/pandas/core/indexing.py:670: SettingWithCopyWarning: \n",
      "A value is trying to be set on a copy of a slice from a DataFrame\n",
      "\n",
      "See the caveats in the documentation: https://pandas.pydata.org/pandas-docs/stable/user_guide/indexing.html#returning-a-view-versus-a-copy\n",
      "  iloc._setitem_with_indexer(indexer, value)\n"
     ]
    }
   ],
   "source": [
    "#adding link to photo of awarded person and download it if necessary\n",
    "#WORKS REALLY SLOW\n",
    "#USE ONLY IF YOU PLAN TO IMAGE PROCESSING (NOT IMPELEMENTED)\n",
    "from wikidata.client import Client\n",
    "import os\n",
    "import urllib\n",
    "\n",
    "def add_picturelink2df(df, download=False, download_directory=\"celebrities\"):\n",
    "    client = Client()\n",
    "    image_prop = client.get(\"P18\")\n",
    "    df[\"picture_link\"] = None\n",
    "    if download:\n",
    "        if not os.path.exists(download_directory):\n",
    "            os.makedirs(download_directory)\n",
    "\n",
    "    for i in range(len(df)):\n",
    "        qName =  df[\"celebrity\"].iloc[i].split('/')[-1]\n",
    "        human_name = df[\"celebrityLabel\"].iloc[i]\n",
    "        entity = client.get(qName, load=True)\n",
    "        image = entity[image_prop]\n",
    "        image_url = image.image_url\n",
    "        df[\"picture_link\"].iloc[i] = image_url\n",
    "        if download:\n",
    "            urllib.request.urlretrieve(image_url, os.path.join(download_directory, human_name + \".jpg\"))\n",
    "\n",
    "add_picturelink2df(df, download=False)"
   ]
  },
  {
   "cell_type": "code",
   "execution_count": null,
   "metadata": {
    "colab": {
     "base_uri": "https://localhost:8080/",
     "height": 265
    },
    "id": "MiFUjrp1Yk3E",
    "outputId": "2db9ad9b-819b-4c09-a8b8-7625d4f54d2e"
   },
   "outputs": [
    {
     "data": {
      "image/png": "[encoded data removed]",
      "text/plain": [
       "<Figure size 432x288 with 1 Axes>"
      ]
     },
     "metadata": {
      "needs_background": "light",
      "tags": []
     },
     "output_type": "display_data"
    }
   ],
   "source": [
    "plt.hist(df[df[\"genderLabel\"]==\"male\"][\"Age_while_awarded\"].reset_index(drop=True), alpha=0.6, label=\"Male\")\n",
    "plt.hist(df[df[\"genderLabel\"]==\"female\"][\"Age_while_awarded\"].reset_index(drop=True), alpha=0.6, label=\"Female\")\n",
    "plt.legend()\n",
    "plt.show()"
   ]
  }
 ],
 "metadata": {
  "colab": {
   "collapsed_sections": [],
   "name": "What Oscar award you should win.ipynb",
   "provenance": []
  },
  "kernelspec": {
   "display_name": "Python 3",
   "language": "python",
   "name": "python3"
  },
  "language_info": {
   "codemirror_mode": {
    "name": "ipython",
    "version": 3
   },
   "file_extension": ".py",
   "mimetype": "text/x-python",
   "name": "python",
   "nbconvert_exporter": "python",
   "pygments_lexer": "ipython3",
   "version": "3.7.6"
  }
 },
 "nbformat": 4,
 "nbformat_minor": 1
}
